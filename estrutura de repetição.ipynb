{
  "nbformat": 4,
  "nbformat_minor": 0,
  "metadata": {
    "colab": {
      "provenance": [],
      "authorship_tag": "ABX9TyNfDiDoumYJssW2kTNcZBaq",
      "include_colab_link": true
    },
    "kernelspec": {
      "name": "python3",
      "display_name": "Python 3"
    },
    "language_info": {
      "name": "python"
    }
  },
  "cells": [
    {
      "cell_type": "markdown",
      "metadata": {
        "id": "view-in-github",
        "colab_type": "text"
      },
      "source": [
        "<a href=\"https://colab.research.google.com/github/talitalinden/python-treino/blob/main/estrutura%20de%20repeti%C3%A7%C3%A3o.ipynb\" target=\"_parent\"><img src=\"https://colab.research.google.com/assets/colab-badge.svg\" alt=\"Open In Colab\"/></a>"
      ]
    },
    {
      "cell_type": "code",
      "execution_count": 5,
      "metadata": {
        "colab": {
          "base_uri": "https://localhost:8080/"
        },
        "id": "pQgqQIy8iKfw",
        "outputId": "6611e89f-2f63-4b15-df37-9a8730530751"
      },
      "outputs": [
        {
          "output_type": "stream",
          "name": "stdout",
          "text": [
            "Quantos números: 10\n",
            "Numero1: 5\n",
            "Numero2:6\n",
            "Numero3:8\n",
            "Numero4:3\n",
            "Numero5:9\n",
            "Numero6:7\n",
            "Numero7:4\n",
            "Numero8:9\n",
            "Numero9:8\n",
            "Numero10:6\n",
            "soma:65\n",
            "maior: 9\n",
            "menor:5\n",
            "media:6.5\n"
          ]
        }
      ],
      "source": [
        "#string e repetição\n",
        "\n",
        "numeros = int(input(\"Quantos números: \"))\n",
        "primeiro = int(input(\"Numero1: \"))\n",
        "\n",
        "count = 1\n",
        "maior = primeiro\n",
        "menor = primeiro\n",
        "soma = primeiro\n",
        "\n",
        "while count < numeros:\n",
        "    count += 1\n",
        "    temp = int(input(f\"Numero{count:d}:\")) #f é para formatar\n",
        "    soma += temp\n",
        "    if temp > maior:\n",
        "        maior = temp\n",
        "while count < numeros:\n",
        "    count += 1\n",
        "    temp = int(input(f\"Numero{count:d}:\"))\n",
        "    soma += temp\n",
        "    if temp > menor:\n",
        "        menor = temp\n",
        "media = soma/numeros\n",
        "print(f'soma:{soma}')\n",
        "print(f'maior: {maior}')\n",
        "print(f'menor:{menor}')\n",
        "print(f'media:{media}')\n",
        "    \n"
      ]
    }
  ]
}