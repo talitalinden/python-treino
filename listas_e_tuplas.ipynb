{
  "nbformat": 4,
  "nbformat_minor": 0,
  "metadata": {
    "colab": {
      "provenance": [],
      "collapsed_sections": [],
      "authorship_tag": "ABX9TyOwKKTj/YFJ34OD8EhTif/z",
      "include_colab_link": true
    },
    "kernelspec": {
      "name": "python3",
      "display_name": "Python 3"
    },
    "language_info": {
      "name": "python"
    }
  },
  "cells": [
    {
      "cell_type": "markdown",
      "metadata": {
        "id": "view-in-github",
        "colab_type": "text"
      },
      "source": [
        "<a href=\"https://colab.research.google.com/github/talitalinden/python-treino/blob/main/listas_e_tuplas.ipynb\" target=\"_parent\"><img src=\"https://colab.research.google.com/assets/colab-badge.svg\" alt=\"Open In Colab\"/></a>"
      ]
    },
    {
      "cell_type": "code",
      "execution_count": 1,
      "metadata": {
        "colab": {
          "base_uri": "https://localhost:8080/"
        },
        "id": "UEPhBphnAKRX",
        "outputId": "8830646b-9177-4346-f9b2-fc703dc07b6c"
      },
      "outputs": [
        {
          "output_type": "execute_result",
          "data": {
            "text/plain": [
              "list"
            ]
          },
          "metadata": {},
          "execution_count": 1
        }
      ],
      "source": [
        "type([]) #tipo de variável"
      ]
    },
    {
      "cell_type": "code",
      "source": [
        "lista1 = [5,6,76,2,10,43,21,98,12,43,1,12,4,6,100]\n",
        "lista2 = ['P', 'y', 't', 'h', 'o', 'n']\n",
        "lista3 = ['Python']\n",
        "print(lista1 + lista2 + lista3)"
      ],
      "metadata": {
        "colab": {
          "base_uri": "https://localhost:8080/"
        },
        "id": "BXWa8qc3An1e",
        "outputId": "260c85fa-f801-4856-f5f9-c529e9a1fca6"
      },
      "execution_count": 7,
      "outputs": [
        {
          "output_type": "stream",
          "name": "stdout",
          "text": [
            "[5, 6, 76, 2, 10, 43, 21, 98, 12, 43, 1, 12, 4, 6, 100, 'P', 'y', 't', 'h', 'o', 'n', 'Python']\n"
          ]
        }
      ]
    },
    {
      "cell_type": "code",
      "source": [
        "lista = [5,6,76,2,10,43,21,98,12,43,1,12,4,6,100]\n",
        "lista.pop() #o pop retira o último item da lista\n",
        "print(lista)"
      ],
      "metadata": {
        "colab": {
          "base_uri": "https://localhost:8080/"
        },
        "id": "rnA8ninACS5B",
        "outputId": "b3b99c49-2fb9-486c-eebe-f3faa4bead6a"
      },
      "execution_count": 8,
      "outputs": [
        {
          "output_type": "stream",
          "name": "stdout",
          "text": [
            "[5, 6, 76, 2, 10, 43, 21, 98, 12, 43, 1, 12, 4, 6]\n"
          ]
        }
      ]
    },
    {
      "cell_type": "code",
      "source": [
        "listan = [3,4,55,64,13,31,90]\n",
        "listan.insert(55, 100)\n",
        "print(listan)"
      ],
      "metadata": {
        "colab": {
          "base_uri": "https://localhost:8080/"
        },
        "id": "SIoFhlLLFEuF",
        "outputId": "abb90a39-5e3e-4bd6-904f-ee3789f44762"
      },
      "execution_count": 11,
      "outputs": [
        {
          "output_type": "stream",
          "name": "stdout",
          "text": [
            "[3, 4, 55, 64, 13, 31, 90, 100]\n"
          ]
        }
      ]
    },
    {
      "cell_type": "code",
      "source": [
        "lista = [5,6,76,2,10,43,21,98,12,43,1,12,4,6,100]\n",
        "lista.remove(100)\n",
        "print(lista)"
      ],
      "metadata": {
        "colab": {
          "base_uri": "https://localhost:8080/"
        },
        "id": "5hC9QrEFF_b3",
        "outputId": "edfd6115-8059-4e84-b540-88d25e0023f3"
      },
      "execution_count": 12,
      "outputs": [
        {
          "output_type": "stream",
          "name": "stdout",
          "text": [
            "[5, 6, 76, 2, 10, 43, 21, 98, 12, 43, 1, 12, 4, 6]\n"
          ]
        }
      ]
    },
    {
      "cell_type": "code",
      "source": [
        "lista = [5,6,76,2,10,43,21,98,12,43,1,12,4,6,100]\n",
        "lista.reverse() #inverte a ordem\n",
        "print(lista)"
      ],
      "metadata": {
        "colab": {
          "base_uri": "https://localhost:8080/"
        },
        "id": "0h00h22ZGPBj",
        "outputId": "16c748cd-fd01-42f3-f46a-7ac1f1df440f"
      },
      "execution_count": 13,
      "outputs": [
        {
          "output_type": "stream",
          "name": "stdout",
          "text": [
            "[100, 6, 4, 12, 1, 43, 12, 98, 21, 43, 10, 2, 76, 6, 5]\n"
          ]
        }
      ]
    },
    {
      "cell_type": "code",
      "source": [
        "lista = [5,6,76,2,10,43,21,98,12,43,1,12,4,6,100]\n",
        "lista.sort()\n",
        "print(lista)"
      ],
      "metadata": {
        "colab": {
          "base_uri": "https://localhost:8080/"
        },
        "id": "VpQhuxSdHbPi",
        "outputId": "2bc99203-6d69-43c0-fa5c-908a8a4cc4bb"
      },
      "execution_count": 15,
      "outputs": [
        {
          "output_type": "stream",
          "name": "stdout",
          "text": [
            "[1, 2, 4, 5, 6, 6, 10, 12, 12, 21, 43, 43, 76, 98, 100]\n"
          ]
        }
      ]
    },
    {
      "cell_type": "code",
      "source": [
        "tupla = 1, 2, 3, 4, 5, 6, 7, 8 #pode ser com ou sem aspas\n",
        "print(tupla)\n",
        "\n"
      ],
      "metadata": {
        "colab": {
          "base_uri": "https://localhost:8080/"
        },
        "id": "d3BW0vU0JiUp",
        "outputId": "0e438de3-fe6b-468c-d642-fe8b99d8b11e"
      },
      "execution_count": 22,
      "outputs": [
        {
          "output_type": "stream",
          "name": "stdout",
          "text": [
            "(1, 2, 3, 4, 5, 6, 7, 8)\n"
          ]
        }
      ]
    },
    {
      "cell_type": "code",
      "source": [],
      "metadata": {
        "id": "R17yjK3gSTws"
      },
      "execution_count": null,
      "outputs": []
    },
    {
      "cell_type": "code",
      "source": [
        "carrinho = []\n",
        "produto = ''\n",
        "while produto != 'sair':\n",
        "    print(\"Adicione um produto na lista ou digite 'sair' para sair: \")\n",
        "    produto = input()\n",
        "    if produto != 'sair':\n",
        "        carrinho.append(produto)\n",
        "for produto in carrinho:\n",
        "        print(produto)"
      ],
      "metadata": {
        "colab": {
          "base_uri": "https://localhost:8080/"
        },
        "id": "8ag36qaNQ-nE",
        "outputId": "b04b9dc3-8230-4865-a926-06ca7b373f4b"
      },
      "execution_count": 26,
      "outputs": [
        {
          "output_type": "stream",
          "name": "stdout",
          "text": [
            "Adicione um produto na lista ou digite 'sair' para sair: \n",
            "laranja\n",
            "Adicione um produto na lista ou digite 'sair' para sair: \n",
            "mamão\n",
            "Adicione um produto na lista ou digite 'sair' para sair: \n",
            "sair\n",
            "laranja\n",
            "mamão\n"
          ]
        }
      ]
    }
  ]
}