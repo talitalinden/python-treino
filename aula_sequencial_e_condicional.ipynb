{
  "nbformat": 4,
  "nbformat_minor": 0,
  "metadata": {
    "colab": {
      "provenance": [],
      "collapsed_sections": [],
      "authorship_tag": "ABX9TyNwbWjF8ELekro5gRMvyRMs",
      "include_colab_link": true
    },
    "kernelspec": {
      "name": "python3",
      "display_name": "Python 3"
    },
    "language_info": {
      "name": "python"
    }
  },
  "cells": [
    {
      "cell_type": "markdown",
      "metadata": {
        "id": "view-in-github",
        "colab_type": "text"
      },
      "source": [
        "<a href=\"https://colab.research.google.com/github/talitalinden/python-treino/blob/main/aula_sequencial_e_condicional.ipynb\" target=\"_parent\"><img src=\"https://colab.research.google.com/assets/colab-badge.svg\" alt=\"Open In Colab\"/></a>"
      ]
    },
    {
      "cell_type": "code",
      "execution_count": 1,
      "metadata": {
        "colab": {
          "base_uri": "https://localhost:8080/"
        },
        "id": "mJpp4FXQ8ik0",
        "outputId": "f2687f6d-cf08-4b92-a1b0-f880893d4682"
      },
      "outputs": [
        {
          "output_type": "stream",
          "name": "stdout",
          "text": [
            "A raiz quadrada é: 9.0\n"
          ]
        }
      ],
      "source": [
        "import math\n",
        "raiz = 81\n",
        "resultado = math.sqrt(raiz)\n",
        "print(f'A raiz quadrada é: {resultado}')"
      ]
    },
    {
      "cell_type": "code",
      "source": [
        "#escrever um algritmo que leia duas variáveis inteiras e troque o conteúdo entre elas.\n",
        "\n",
        "x = int(input('Digite a primeira variável: '))\n",
        "y = int(input('Digite a segunda variável: '))\n",
        "\n",
        "temp = None #temp é variável temporária para ocorrer a troca, None em Python é vazio.\n",
        "\n",
        "temp = x\n",
        "x = y\n",
        "y = temp\n",
        "\n",
        "print(f'O valor de x é: {x} e o valor de y {y}')"
      ],
      "metadata": {
        "colab": {
          "base_uri": "https://localhost:8080/"
        },
        "id": "iSHmfduw--ip",
        "outputId": "5673e4c9-4ec1-41ec-d658-fd7d9e9c02d3"
      },
      "execution_count": 2,
      "outputs": [
        {
          "output_type": "stream",
          "name": "stdout",
          "text": [
            "Dgite a primeira variável: 4\n",
            "Digite a segunda variável: 6\n",
            "O valor de x é: 6 e o valor de y 4\n"
          ]
        }
      ]
    },
    {
      "cell_type": "code",
      "source": [
        "#Escreva um algoritmo que leia um numero inteiro e exiba o dobro do mesmo\n",
        "num = int(input('Digite um número inteiro'))\n",
        "num2 = num * 2\n",
        "print(f'O dobro é: {num2}')"
      ],
      "metadata": {
        "colab": {
          "base_uri": "https://localhost:8080/"
        },
        "id": "Kqhq-Q4WCka6",
        "outputId": "1a2d27ee-5660-4f1d-aaa3-6e5decdb0ec3"
      },
      "execution_count": 4,
      "outputs": [
        {
          "output_type": "stream",
          "name": "stdout",
          "text": [
            "Digite um número inteiro5\n",
            "O dobro é: 10\n"
          ]
        }
      ]
    },
    {
      "cell_type": "code",
      "source": [
        "#Tendo como dados de entrada a altura de uma pessoa, construa um algoritmo que calcule seu peso \n",
        "#ideal usando a seguinte fórmula (72.7*altura)-58\n",
        "\n",
        "altura = float(input('Digite sua altura: '))\n",
        "peso = (72.7*altura)-58\n",
        "\n",
        "print(f'O peso ideal é: {peso:.2f}')"
      ],
      "metadata": {
        "colab": {
          "base_uri": "https://localhost:8080/"
        },
        "id": "MGuV1FwmD7NM",
        "outputId": "4b535a25-192b-41b3-f774-fdb57899e421"
      },
      "execution_count": 5,
      "outputs": [
        {
          "output_type": "stream",
          "name": "stdout",
          "text": [
            "Digite sua altura: 1.58\n",
            "O peso ideal é: 56.87\n"
          ]
        }
      ]
    },
    {
      "cell_type": "code",
      "source": [],
      "metadata": {
        "id": "STtScxiMFNvf"
      },
      "execution_count": null,
      "outputs": []
    },
    {
      "cell_type": "code",
      "source": [
        "#Faça um Programa que peça a temperatura em graus Fahrenheit, transforme e \n",
        "#mostre a temperatura em graus Celsius.\n",
        "#C = 5 * ((F-32) / 9).\n",
        "\n",
        "f = float(input('Digite a temperatura em Fahrenheit: '))\n",
        "c = 5*((f-32)/9)\n",
        "\n",
        "print(f'A temperatura em graus Celsius é: {c:.2f}')\n",
        "\n"
      ],
      "metadata": {
        "colab": {
          "base_uri": "https://localhost:8080/"
        },
        "id": "GG0cYE_pkxY7",
        "outputId": "dfb3a844-2c94-4a0c-d0db-5e24b1a20ebe"
      },
      "execution_count": 7,
      "outputs": [
        {
          "output_type": "stream",
          "name": "stdout",
          "text": [
            "Digite a temperatura em Fahrenheit: 90\n",
            "A temperatura em graus Celsius é: 32.22\n"
          ]
        }
      ]
    },
    {
      "cell_type": "code",
      "source": [
        "# faça um programa em python que leia duas notas e apresente se a média for >= 7,0\n",
        "# aluno aprovado, caso contrário reprovado\n",
        "nota1 = float(input('Digite a nota 1: '))\n",
        "nota2 = float(input('Digite a nota 2: '))\n",
        "media = (nota1 + nota2)/2\n",
        "\n",
        "if media>= 7:\n",
        "    print('Aluno aprovado!')\n",
        "else:\n",
        "    print('Reprovado')"
      ],
      "metadata": {
        "colab": {
          "base_uri": "https://localhost:8080/"
        },
        "id": "GS_ixKJTPJJm",
        "outputId": "9869c1a6-dd48-47fc-eb1a-0f1878ace29b"
      },
      "execution_count": 9,
      "outputs": [
        {
          "output_type": "stream",
          "name": "stdout",
          "text": [
            "Digite a nota 1: 5\n",
            "Digite a nota 2: 6\n",
            "Reprovado\n"
          ]
        }
      ]
    }
  ]
}