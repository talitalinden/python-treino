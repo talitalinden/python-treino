{
  "nbformat": 4,
  "nbformat_minor": 0,
  "metadata": {
    "colab": {
      "provenance": [],
      "collapsed_sections": [],
      "authorship_tag": "ABX9TyO2XYQW3hRgbJQK8KllGMBo",
      "include_colab_link": true
    },
    "kernelspec": {
      "name": "python3",
      "display_name": "Python 3"
    },
    "language_info": {
      "name": "python"
    }
  },
  "cells": [
    {
      "cell_type": "markdown",
      "metadata": {
        "id": "view-in-github",
        "colab_type": "text"
      },
      "source": [
        "<a href=\"https://colab.research.google.com/github/talitalinden/python-treino/blob/main/condicional.ipynb\" target=\"_parent\"><img src=\"https://colab.research.google.com/assets/colab-badge.svg\" alt=\"Open In Colab\"/></a>"
      ]
    },
    {
      "cell_type": "code",
      "execution_count": 1,
      "metadata": {
        "colab": {
          "base_uri": "https://localhost:8080/"
        },
        "id": "0EtpOlwsLl1H",
        "outputId": "d022d510-6b62-4316-f414-3fd713e42dc2"
      },
      "outputs": [
        {
          "output_type": "stream",
          "name": "stdout",
          "text": [
            "Escreva o primeiro número: 10\n",
            "Escreva o segundo número: 15\n",
            "O número maior é: 15.00\n"
          ]
        }
      ],
      "source": [
        "#Faça um Programa que peça dois números e imprima o maior deles. \n",
        "\n",
        "num1 = float(input('Escreva o primeiro número: '))\n",
        "num2 = float(input('Escreva o segundo número: '))\n",
        "\n",
        "if num1 > num2:\n",
        "    print(f'O número maior é: {num1:.2f}')\n",
        "else:\n",
        "    print(f'O número maior é: {num2:.2f}')"
      ]
    },
    {
      "cell_type": "code",
      "source": [
        "#Faça um Programa que peça um valor e mostre na tela se o valor é positivo ou negativo. \n",
        "\n",
        "valor = float(input('Insira um valor: '))\n",
        "\n",
        "if valor >= 0:\n",
        "    print('Esse valor é positivo.')\n",
        "else:\n",
        "    print('Esse valor é negativo.')"
      ],
      "metadata": {
        "colab": {
          "base_uri": "https://localhost:8080/"
        },
        "id": "lbNICdvyNj_B",
        "outputId": "6f4c0905-7914-481e-bcd5-4e3b076df895"
      },
      "execution_count": 3,
      "outputs": [
        {
          "output_type": "stream",
          "name": "stdout",
          "text": [
            "Insira um valor: -10\n",
            "Esse valor é negativo.\n"
          ]
        }
      ]
    },
    {
      "cell_type": "code",
      "source": [
        "#Faça um Programa que verifique se uma letra digitada é \"F\" ou \"M\". Conforme a letra escrever: F - Feminino, M - Masculino, Sexo Inválido. \n",
        "\n",
        "sexo = str(input('Insira sexo (F/M:): '))\n",
        "if sexo == 'F':\n",
        "    print('Feminino')\n",
        "elif sexo == 'M':\n",
        "    print('Masculino')\n",
        "else:\n",
        "    print('Sexo inválido')"
      ],
      "metadata": {
        "colab": {
          "base_uri": "https://localhost:8080/"
        },
        "id": "Xb9_OhkQTaL9",
        "outputId": "2f79e4f0-eec0-400a-8a11-314c511d921f"
      },
      "execution_count": 5,
      "outputs": [
        {
          "output_type": "stream",
          "name": "stdout",
          "text": [
            "Insira sexo (F/M:): F\n",
            "Feminino\n"
          ]
        }
      ]
    }
  ]
}