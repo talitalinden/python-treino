{
  "nbformat": 4,
  "nbformat_minor": 0,
  "metadata": {
    "colab": {
      "provenance": [],
      "collapsed_sections": [],
      "authorship_tag": "ABX9TyMr9dwCiwUBmPKBzZJ1WxBL",
      "include_colab_link": true
    },
    "kernelspec": {
      "name": "python3",
      "display_name": "Python 3"
    },
    "language_info": {
      "name": "python"
    }
  },
  "cells": [
    {
      "cell_type": "markdown",
      "metadata": {
        "id": "view-in-github",
        "colab_type": "text"
      },
      "source": [
        "<a href=\"https://colab.research.google.com/github/talitalinden/python-treino/blob/main/estrutura%20sequencial%20de%20introd_%C3%A0_programa%C3%A7%C3%A3o_tarde.ipynb\" target=\"_parent\"><img src=\"https://colab.research.google.com/assets/colab-badge.svg\" alt=\"Open In Colab\"/></a>"
      ]
    },
    {
      "cell_type": "code",
      "execution_count": null,
      "metadata": {
        "id": "QvSKVGBKJedr"
      },
      "outputs": [],
      "source": [
        "# comentario para o codigo\n",
        "# bool significa booleano - true or false\n",
        "# int significa inteiro\n",
        "# float significa ponto flutuante - usado para valores quebrados\n",
        "# range para sequencia de numeros\n",
        "# str, unicode - cadeia de caracteres imutavel\n",
        "# bytes - sequencia binaria\n",
        "# dict - dicionario\n",
        "\n",
        "# == igual a \n",
        "# != diferente de\n",
        "# >= maior igual\n",
        "# <= menor igual\n",
        "# input significa leia\n",
        "# f significa formatar"
      ]
    },
    {
      "cell_type": "code",
      "source": [
        "#Faça um Programa que mostre a mensagem \"Alo mundo\" na tela.\n",
        "print (\"Alô mundo!\")"
      ],
      "metadata": {
        "id": "IbZPA0eyM86X",
        "colab": {
          "base_uri": "https://localhost:8080/"
        },
        "outputId": "ffacf7b0-1418-46a0-a4ef-e894588b3d9d"
      },
      "execution_count": 3,
      "outputs": [
        {
          "output_type": "stream",
          "name": "stdout",
          "text": [
            "Alô mundo!\n"
          ]
        }
      ]
    },
    {
      "cell_type": "code",
      "source": [
        "#Faça um Programa que peça um número e então mostre a mensagem O número informado foi [número]. \n",
        "\n",
        "numero = int(input('insira um numero: '))\n",
        "print(f'O número informado foi: {numero}')"
      ],
      "metadata": {
        "colab": {
          "base_uri": "https://localhost:8080/"
        },
        "id": "oLQzo_YRPNLo",
        "outputId": "c000e3c4-c5b5-4c1a-ed52-595c3c14753a"
      },
      "execution_count": 2,
      "outputs": [
        {
          "output_type": "stream",
          "name": "stdout",
          "text": [
            "insira um numero: 10\n",
            "O número informado foi: 10\n"
          ]
        }
      ]
    },
    {
      "cell_type": "code",
      "source": [
        "#Faça um Programa que peça dois números e imprima a soma.\n",
        "num1 = int(input('Insira o primeiro numero: '))\n",
        "num2 = int(input('Insira o segundo numero: '))\n",
        "soma = num1 + num2\n",
        "print (f'{num1} + {num2} = {soma}')"
      ],
      "metadata": {
        "colab": {
          "base_uri": "https://localhost:8080/"
        },
        "id": "5XUBAMp9PmUg",
        "outputId": "f8f0115d-5a6f-4c0d-d91b-aa9bf8b6ca93"
      },
      "execution_count": 6,
      "outputs": [
        {
          "output_type": "stream",
          "name": "stdout",
          "text": [
            "Insira o primeiro numero: 8\n",
            "Insira o segundo numero: 12\n",
            "8 + 12 = 20\n"
          ]
        }
      ]
    },
    {
      "cell_type": "code",
      "source": [
        "#Faça um Programa que peça as 4 notas bimestrais e mostre a média.\n",
        "nota1 = float(input(\"Digite a 1º nota: \"))\n",
        "nota2 = float(input(\"Digite a 2º nota: \"))\n",
        "nota3 = float(input(\"Digite a terceira nota: \"))\n",
        "nota4 = float(input(\"Digite a quarta nota: \"))\n",
        "media = (nota1 + nota2 + nota3 + nota4)/4\n",
        "\n",
        "print(f'A média é: {media:.2f}')\n",
        "# para números quebrados, 2f significa que quer que exiba 2 numeros apos a virgula."
      ],
      "metadata": {
        "id": "FX9C_dQ3QLu6",
        "cellView": "code"
      },
      "execution_count": null,
      "outputs": []
    },
    {
      "cell_type": "code",
      "source": [
        "#Faça um Programa que converta metros para centímetros.\n",
        "metros = float(input('Insira a metragem: '))\n",
        "centimetros = metros / 0.010000  # outra forma: metros * 100\n",
        "print(f'{metros:.2f}m = {centimetros:.2f}cm')"
      ],
      "metadata": {
        "colab": {
          "base_uri": "https://localhost:8080/"
        },
        "id": "yA7suf6TBVJJ",
        "outputId": "8068c2da-37aa-42d6-bde7-fffd8df5e7f0"
      },
      "execution_count": 14,
      "outputs": [
        {
          "output_type": "stream",
          "name": "stdout",
          "text": [
            "Insira a metragem: 5\n",
            "5.00m = 500.00cm\n"
          ]
        }
      ]
    }
  ]
}