{
  "nbformat": 4,
  "nbformat_minor": 0,
  "metadata": {
    "colab": {
      "provenance": [],
      "authorship_tag": "ABX9TyPi8aGZo20FvE1aYVAJvVDz",
      "include_colab_link": true
    },
    "kernelspec": {
      "name": "python3",
      "display_name": "Python 3"
    },
    "language_info": {
      "name": "python"
    }
  },
  "cells": [
    {
      "cell_type": "markdown",
      "metadata": {
        "id": "view-in-github",
        "colab_type": "text"
      },
      "source": [
        "<a href=\"https://colab.research.google.com/github/talitalinden/python-treino/blob/main/string.ipynb\" target=\"_parent\"><img src=\"https://colab.research.google.com/assets/colab-badge.svg\" alt=\"Open In Colab\"/></a>"
      ]
    },
    {
      "cell_type": "code",
      "execution_count": 1,
      "metadata": {
        "colab": {
          "base_uri": "https://localhost:8080/"
        },
        "id": "uN4n3Wgg8keI",
        "outputId": "1d019f96-32fd-495c-d3ec-2d2b40120a9e"
      },
      "outputs": [
        {
          "output_type": "stream",
          "name": "stdout",
          "text": [
            "<class 'str'>\n"
          ]
        }
      ],
      "source": [
        "#String: um conjunto de caracteres. Para ser reconhecido como string, precisa estar entre aspas ' ' \" \" str\n",
        "#\\n faz pular linha para deixar o código mais organizado \n",
        "numero = '13'\n",
        "print(type(numero))"
      ]
    },
    {
      "cell_type": "code",
      "source": [
        "#diferenciação entre maiúsculo e minúsculo\n",
        "nome = 'Aula 06 - string'\n",
        "print(nome.split())"
      ],
      "metadata": {
        "colab": {
          "base_uri": "https://localhost:8080/"
        },
        "id": "RIecxqKE-mnQ",
        "outputId": "6b4f5ed4-b6b7-4ddc-af98-88caadf3b4fc"
      },
      "execution_count": 2,
      "outputs": [
        {
          "output_type": "stream",
          "name": "stdout",
          "text": [
            "['Aula', '06', '-', 'string']\n"
          ]
        }
      ]
    },
    {
      "cell_type": "code",
      "source": [
        "#uso de replace (substitui por @)\n",
        "nome = 'Talita Hanna - string'\n",
        "print(nome.replace('a','@'))"
      ],
      "metadata": {
        "colab": {
          "base_uri": "https://localhost:8080/"
        },
        "id": "FMc2kUyM_YE3",
        "outputId": "e80e61b4-f9c3-4a14-cbb1-9c3f13e0c28c"
      },
      "execution_count": 5,
      "outputs": [
        {
          "output_type": "stream",
          "name": "stdout",
          "text": [
            "T@lit@ H@nn@ - string\n"
          ]
        }
      ]
    },
    {
      "cell_type": "code",
      "source": [
        "#uso de split\n",
        "nome = 'Aula 06 - string'\n",
        "print(nome.split())"
      ],
      "metadata": {
        "colab": {
          "base_uri": "https://localhost:8080/"
        },
        "id": "R1Rm-9KwAc-w",
        "outputId": "2bba6783-472b-4555-e2c4-385620b7d5d4"
      },
      "execution_count": 4,
      "outputs": [
        {
          "output_type": "stream",
          "name": "stdout",
          "text": [
            "['Aula', '06', '-', 'string']\n"
          ]
        }
      ]
    },
    {
      "cell_type": "code",
      "source": [
        "# len retorna a quantidae de caracteres utilizados numa determinada estrutura\n",
        "nome = 'Talita Hanna Cabral'\n",
        "print(len(nome))"
      ],
      "metadata": {
        "colab": {
          "base_uri": "https://localhost:8080/"
        },
        "id": "5_4m1E7RB1QF",
        "outputId": "076c997f-374c-4a81-f3b4-7ca23494c27b"
      },
      "execution_count": 6,
      "outputs": [
        {
          "output_type": "stream",
          "name": "stdout",
          "text": [
            "19\n"
          ]
        }
      ]
    },
    {
      "cell_type": "code",
      "source": [
        "# capitalize retorna um string maiúscula\n",
        "nome = 'talita Hanna - string'\n",
        "print(nome.capitalize())"
      ],
      "metadata": {
        "colab": {
          "base_uri": "https://localhost:8080/"
        },
        "id": "MnG4kiHeA7xW",
        "outputId": "8c799203-af9c-4a07-d116-c700da5a9c83"
      },
      "execution_count": 8,
      "outputs": [
        {
          "output_type": "stream",
          "name": "stdout",
          "text": [
            "Talita hanna - string\n"
          ]
        }
      ]
    },
    {
      "cell_type": "code",
      "source": [
        "# count faz a contagem da string indicada\n",
        "nome = 'Talita Hanna Cabral - string'\n",
        "print(nome.count('a'))"
      ],
      "metadata": {
        "colab": {
          "base_uri": "https://localhost:8080/"
        },
        "id": "5W0HtiXCDZAD",
        "outputId": "e30efb03-85f0-4d44-8374-ef22a6dccd82"
      },
      "execution_count": 9,
      "outputs": [
        {
          "output_type": "stream",
          "name": "stdout",
          "text": [
            "6\n"
          ]
        }
      ]
    },
    {
      "cell_type": "code",
      "source": [
        "numero = input(\"Digite um número menor que 1000: \")\n",
        "numerostr = str(numero)\n",
        "qnumero = len(numerostr)\n",
        "\n",
        "if qnumero == 3:\n",
        "    centena = numerostr[0:1]\n",
        "    dezena = numerostr[1:2]\n",
        "    unidade = numerostr[2:3]\n",
        "    print(numerostr+\" = \"+centena+\" centenas, \"+dezena+\" dezenas, \"+unidade+ \" unidades\")\n",
        "elif qnumero == 2:\n",
        "    dezena = numerostr[0:1]\n",
        "    unidade = numerostr[1:2]\n",
        "    print(numerostr+\" = \"+dezena+\" dezenas, \"+unidade+\" unidades\")\n",
        "elif qnumero == 1:\n",
        "    unidade = numerostr[0:1]\n",
        "    print(numerostr+\" = \"+unidade+\" unidades\")\n"
      ],
      "metadata": {
        "colab": {
          "base_uri": "https://localhost:8080/"
        },
        "id": "ERU96T1nGPxX",
        "outputId": "35ed5c45-92ec-43ec-e45b-8db7c100d1d2"
      },
      "execution_count": 13,
      "outputs": [
        {
          "output_type": "stream",
          "name": "stdout",
          "text": [
            "Digite um número menor que 1000: 555\n",
            "555 = 5 centenas, 5 dezenas, 5 unidades\n"
          ]
        }
      ]
    },
    {
      "cell_type": "code",
      "source": [
        "#estrutura de repetição: condicional e contável\n",
        "numero = 1\n",
        "while numero < 10:   # importante dar um limite, caso contrário vira loop\n",
        "    print(numero)\n",
        "    numero = numero + 1"
      ],
      "metadata": {
        "colab": {
          "base_uri": "https://localhost:8080/"
        },
        "id": "SFy2xLHNR5sC",
        "outputId": "cec302ff-20f8-45be-8cf2-ef42b2a728d0"
      },
      "execution_count": 17,
      "outputs": [
        {
          "output_type": "stream",
          "name": "stdout",
          "text": [
            "1\n",
            "2\n",
            "3\n",
            "4\n",
            "5\n",
            "6\n",
            "7\n",
            "8\n",
            "9\n"
          ]
        }
      ]
    },
    {
      "cell_type": "code",
      "source": [
        "#Faça um programa que peça uma nota entre zero e dez. Mostre uma mensagem caso o\n",
        "#valor seja inválido e continue pdindo até que o usuáio informe um valor válido.\n",
        "nota = float(input(\"Insira uma nota 0 até 10: \"))\n",
        "while(nota<0)or(nota>10):\n",
        "    nota=float(input(\"Não pode ser menor que 0 ou maior que 10!\\n\\Tente novamente:\"))\n",
        "    print(\"Nota válida\")"
      ],
      "metadata": {
        "colab": {
          "base_uri": "https://localhost:8080/"
        },
        "id": "NuCmeCb_U_je",
        "outputId": "68c71832-e76a-4347-8faf-6cd466696d2e"
      },
      "execution_count": 19,
      "outputs": [
        {
          "output_type": "stream",
          "name": "stdout",
          "text": [
            "Insira uma nota 0 até 10: 15\n",
            "Não pode ser menor que 0 ou maior que 10!\n",
            "\\Tente novamente:9.5\n",
            "Nota válida\n"
          ]
        }
      ]
    },
    {
      "cell_type": "code",
      "source": [
        "numeros = int(input(\"Quantos números: \"))\n",
        "primeiro = int(input(\"numero 1: \"))\n",
        "\n",
        "count = 1\n",
        "maior = primeiro\n",
        "soma = primeiro\n",
        "\n",
        "while count < numeros: \n",
        "    count += 1  # += equivale a repetir o count = count + 1\n",
        "    temp = int(input(f\"numero {count:d}:\"))\n",
        "    soma += temp\n",
        "    if temp > maior:\n",
        "        maior = temp\n",
        "\n",
        "media = soma / numeros\n",
        "print(f'soma: {soma}')\n",
        "print(f'maior:{maior}')\n",
        "print(f'media: {media}')"
      ],
      "metadata": {
        "colab": {
          "base_uri": "https://localhost:8080/"
        },
        "id": "I6qVynaaWfHJ",
        "outputId": "efa1f964-6559-4a35-8dd6-db284d2e6526"
      },
      "execution_count": null,
      "outputs": [
        {
          "name": "stdout",
          "output_type": "stream",
          "text": [
            "Quantos números: 4\n"
          ]
        }
      ]
    }
  ]
}