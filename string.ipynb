{
  "nbformat": 4,
  "nbformat_minor": 0,
  "metadata": {
    "colab": {
      "provenance": [],
      "authorship_tag": "ABX9TyN+MxlXjWjatbzQRgpLp5Cd",
      "include_colab_link": true
    },
    "kernelspec": {
      "name": "python3",
      "display_name": "Python 3"
    },
    "language_info": {
      "name": "python"
    }
  },
  "cells": [
    {
      "cell_type": "markdown",
      "metadata": {
        "id": "view-in-github",
        "colab_type": "text"
      },
      "source": [
        "<a href=\"https://colab.research.google.com/github/talitalinden/python-treino/blob/main/string.ipynb\" target=\"_parent\"><img src=\"https://colab.research.google.com/assets/colab-badge.svg\" alt=\"Open In Colab\"/></a>"
      ]
    },
    {
      "cell_type": "code",
      "execution_count": 1,
      "metadata": {
        "colab": {
          "base_uri": "https://localhost:8080/"
        },
        "id": "uN4n3Wgg8keI",
        "outputId": "1d019f96-32fd-495c-d3ec-2d2b40120a9e"
      },
      "outputs": [
        {
          "output_type": "stream",
          "name": "stdout",
          "text": [
            "<class 'str'>\n"
          ]
        }
      ],
      "source": [
        "#String: um conjunto de caracteres. Para ser reconhecido como string, precisa estar entre aspas ' ' \" \" str\n",
        "#\\n faz pular linha para deixar o código mais organizado \n",
        "numero = '13'\n",
        "print(type(numero))"
      ]
    },
    {
      "cell_type": "code",
      "source": [
        "#diferenciação entre maiúsculo e minúsculo\n",
        "nome = 'Aula 06 - string'\n",
        "print(nome.split())"
      ],
      "metadata": {
        "colab": {
          "base_uri": "https://localhost:8080/"
        },
        "id": "RIecxqKE-mnQ",
        "outputId": "6b4f5ed4-b6b7-4ddc-af98-88caadf3b4fc"
      },
      "execution_count": 2,
      "outputs": [
        {
          "output_type": "stream",
          "name": "stdout",
          "text": [
            "['Aula', '06', '-', 'string']\n"
          ]
        }
      ]
    },
    {
      "cell_type": "code",
      "source": [
        "#uso de replace (substitui por @)\n",
        "nome = 'aula 06 - string'\n",
        "print(nome.replace('a','@'))"
      ],
      "metadata": {
        "colab": {
          "base_uri": "https://localhost:8080/"
        },
        "id": "FMc2kUyM_YE3",
        "outputId": "32bda58d-7124-4dce-8ef4-075cd421d5ce"
      },
      "execution_count": 3,
      "outputs": [
        {
          "output_type": "stream",
          "name": "stdout",
          "text": [
            "@ul@ 06 - string\n"
          ]
        }
      ]
    },
    {
      "cell_type": "code",
      "source": [
        "#uso de split\n",
        "nome = 'Aula 06 - string'\n",
        "print(nome.split())"
      ],
      "metadata": {
        "colab": {
          "base_uri": "https://localhost:8080/"
        },
        "id": "R1Rm-9KwAc-w",
        "outputId": "2bba6783-472b-4555-e2c4-385620b7d5d4"
      },
      "execution_count": 4,
      "outputs": [
        {
          "output_type": "stream",
          "name": "stdout",
          "text": [
            "['Aula', '06', '-', 'string']\n"
          ]
        }
      ]
    },
    {
      "cell_type": "code",
      "source": [],
      "metadata": {
        "id": "MnG4kiHeA7xW"
      },
      "execution_count": null,
      "outputs": []
    }
  ]
}