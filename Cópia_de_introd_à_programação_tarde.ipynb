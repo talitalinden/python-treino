{
  "nbformat": 4,
  "nbformat_minor": 0,
  "metadata": {
    "colab": {
      "provenance": [],
      "authorship_tag": "ABX9TyO68OqoNzRaTzeGRKGCnzPA",
      "include_colab_link": true
    },
    "kernelspec": {
      "name": "python3",
      "display_name": "Python 3"
    },
    "language_info": {
      "name": "python"
    }
  },
  "cells": [
    {
      "cell_type": "markdown",
      "metadata": {
        "id": "view-in-github",
        "colab_type": "text"
      },
      "source": [
        "<a href=\"https://colab.research.google.com/github/talitalinden/python-treino/blob/main/C%C3%B3pia_de_introd_%C3%A0_programa%C3%A7%C3%A3o_tarde.ipynb\" target=\"_parent\"><img src=\"https://colab.research.google.com/assets/colab-badge.svg\" alt=\"Open In Colab\"/></a>"
      ]
    },
    {
      "cell_type": "code",
      "execution_count": null,
      "metadata": {
        "id": "QvSKVGBKJedr"
      },
      "outputs": [],
      "source": [
        "# comentario para o codigo\n",
        "# bool significa booleano - true or false\n",
        "# int significa inteiro\n",
        "# float significa ponto flutuante - usado para valores quebrados\n",
        "# range para sequencia de numeros\n",
        "# str, unicode - cadeia de caracteres imutavel\n",
        "# bytes - sequencia binaria\n",
        "# dict - dicionario\n",
        "\n",
        "# == igual a \n",
        "# != diferente de\n",
        "# >= maior igual\n",
        "# <= menor igual"
      ]
    },
    {
      "cell_type": "code",
      "source": [],
      "metadata": {
        "id": "IbZPA0eyM86X"
      },
      "execution_count": null,
      "outputs": []
    }
  ]
}