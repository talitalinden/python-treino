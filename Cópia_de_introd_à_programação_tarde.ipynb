{
  "nbformat": 4,
  "nbformat_minor": 0,
  "metadata": {
    "colab": {
      "provenance": [],
      "authorship_tag": "ABX9TyOflB6xFIdEprtiA1JIk7ZI",
      "include_colab_link": true
    },
    "kernelspec": {
      "name": "python3",
      "display_name": "Python 3"
    },
    "language_info": {
      "name": "python"
    }
  },
  "cells": [
    {
      "cell_type": "markdown",
      "metadata": {
        "id": "view-in-github",
        "colab_type": "text"
      },
      "source": [
        "<a href=\"https://colab.research.google.com/github/talitalinden/python-treino/blob/main/C%C3%B3pia_de_introd_%C3%A0_programa%C3%A7%C3%A3o_tarde.ipynb\" target=\"_parent\"><img src=\"https://colab.research.google.com/assets/colab-badge.svg\" alt=\"Open In Colab\"/></a>"
      ]
    },
    {
      "cell_type": "code",
      "execution_count": null,
      "metadata": {
        "id": "QvSKVGBKJedr"
      },
      "outputs": [],
      "source": [
        "# comentario para o codigo\n",
        "# bool significa booleano - true or false\n",
        "# int significa inteiro\n",
        "# float significa ponto flutuante - usado para valores quebrados\n",
        "# range para sequencia de numeros\n",
        "# str, unicode - cadeia de caracteres imutavel\n",
        "# bytes - sequencia binaria\n",
        "# dict - dicionario\n",
        "\n",
        "# == igual a \n",
        "# != diferente de\n",
        "# >= maior igual\n",
        "# <= menor igual\n",
        "# input significa leia\n",
        "# f significa formatar"
      ]
    },
    {
      "cell_type": "code",
      "source": [
        "print (\"Olá mundo!\")"
      ],
      "metadata": {
        "id": "IbZPA0eyM86X",
        "colab": {
          "base_uri": "https://localhost:8080/"
        },
        "outputId": "91457d72-1298-4e94-e15b-d1d50ff76961"
      },
      "execution_count": 2,
      "outputs": [
        {
          "output_type": "stream",
          "name": "stdout",
          "text": [
            "Olá mundo!\n"
          ]
        }
      ]
    },
    {
      "cell_type": "code",
      "source": [
        "numero = 10\n",
        "print(numero)\n",
        "print(type(numero))"
      ],
      "metadata": {
        "colab": {
          "base_uri": "https://localhost:8080/"
        },
        "id": "oLQzo_YRPNLo",
        "outputId": "094baaf2-77e1-4727-c034-0914fd54a468"
      },
      "execution_count": 4,
      "outputs": [
        {
          "output_type": "stream",
          "name": "stdout",
          "text": [
            "10\n",
            "<class 'int'>\n"
          ]
        }
      ]
    },
    {
      "cell_type": "code",
      "source": [
        "nome = \"Nevinha\"\n",
        "print(nome)\n",
        "print(type(nome))"
      ],
      "metadata": {
        "colab": {
          "base_uri": "https://localhost:8080/"
        },
        "id": "5XUBAMp9PmUg",
        "outputId": "c10f4690-42cf-46ee-b918-dc42e5e2694a"
      },
      "execution_count": 8,
      "outputs": [
        {
          "output_type": "stream",
          "name": "stdout",
          "text": [
            "Nevinha\n",
            "<class 'str'>\n"
          ]
        }
      ]
    },
    {
      "cell_type": "code",
      "source": [
        "nota1 = float(input(\"Digite a 1º nota: \"))\n",
        "nota2 = float(input(\"Digite a 2º nota: \"))\n",
        "media = (nota1 + nota2)/2\n",
        "\n",
        "print(f'A média é: {media:.2f}')\n",
        "# para números quebrados, 2f significa que quer que exiba 2 numeros apos a virgula"
      ],
      "metadata": {
        "colab": {
          "base_uri": "https://localhost:8080/"
        },
        "id": "FX9C_dQ3QLu6",
        "outputId": "8baa92e4-df36-4b06-a2b4-01bc92bacc8a"
      },
      "execution_count": 12,
      "outputs": [
        {
          "output_type": "stream",
          "name": "stdout",
          "text": [
            "Digite a 1º nota: 7\n",
            "Digite a 2º nota: 8\n",
            "A média é: 7.50\n"
          ]
        }
      ]
    }
  ]
}