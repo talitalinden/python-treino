{
  "nbformat": 4,
  "nbformat_minor": 0,
  "metadata": {
    "colab": {
      "provenance": [],
      "collapsed_sections": [],
      "authorship_tag": "ABX9TyNOysjj1VZMukTDHebehwfa",
      "include_colab_link": true
    },
    "kernelspec": {
      "name": "python3",
      "display_name": "Python 3"
    },
    "language_info": {
      "name": "python"
    }
  },
  "cells": [
    {
      "cell_type": "markdown",
      "metadata": {
        "id": "view-in-github",
        "colab_type": "text"
      },
      "source": [
        "<a href=\"https://colab.research.google.com/github/talitalinden/python-treino/blob/main/estudo.ipynb\" target=\"_parent\"><img src=\"https://colab.research.google.com/assets/colab-badge.svg\" alt=\"Open In Colab\"/></a>"
      ]
    },
    {
      "cell_type": "code",
      "execution_count": null,
      "metadata": {
        "colab": {
          "base_uri": "https://localhost:8080/"
        },
        "id": "9NKgi3aXjm3l",
        "outputId": "8cc6fbce-1914-4cd6-d935-bfe103ff2db6"
      },
      "outputs": [
        {
          "output_type": "stream",
          "name": "stdout",
          "text": [
            "Digite o primeiro número10\n",
            "Digite o segundo número12\n",
            "num1=12, num2=10\n"
          ]
        }
      ],
      "source": [
        "#Escreva um algoritmo que leia duas variáveis inteiras e troque o conteúdo entre elas.\n",
        "\n",
        "num1 = int(input(\"Digite o primeiro número\"))\n",
        "num2 = int(input(\"Digite o segundo número\"))\n",
        "\n",
        "num1, num2 = num2, num1 \n",
        "#em python, a troca de valores não precisa de uma terceira variável temp. A vírgula já funciona na troca.\n",
        "\n",
        "print(f'num1={num1}, num2={num2}')"
      ]
    },
    {
      "cell_type": "code",
      "source": [
        "#Escreva um algoritmo que leia duas variáveis inteiras e troque o conteúdo entre elas.\n",
        "\n",
        "num1 = int(input(\"Digite o primeiro número\"))\n",
        "num2 = int(input(\"Digite o segundo número\"))\n",
        "\n",
        "temp = num1\n",
        "num1 = num2   #nas demais linguagens precisa da terceira variável (temp)\n",
        "num2 = temp\n",
        "\n",
        "print(f'Primeiro numero é {num1}, segundo número {num2}') \n",
        "#a chave indica chamar a variável"
      ],
      "metadata": {
        "colab": {
          "base_uri": "https://localhost:8080/"
        },
        "id": "IVomhSTvrgTn",
        "outputId": "b5917be1-18fd-48f6-fb21-8fddac101e59"
      },
      "execution_count": null,
      "outputs": [
        {
          "output_type": "stream",
          "name": "stdout",
          "text": [
            "Digite o primeiro número10\n",
            "Digite o segundo número12\n",
            "Primeiro numero é 12, segundo número 10\n"
          ]
        }
      ]
    },
    {
      "cell_type": "code",
      "source": [
        "#Escreva um algoritmo que leia um número inteiro e exiba o dobro do mesmo.\n",
        "\n",
        "num = int(input(\"Digite um número: \"))\n",
        "\n",
        "print(f'O dobro do número digitado é {num*2}')"
      ],
      "metadata": {
        "id": "kFfu87LmuNCm",
        "colab": {
          "base_uri": "https://localhost:8080/"
        },
        "outputId": "c55e7a86-3f69-46dd-c839-8580f6f0bdc9"
      },
      "execution_count": null,
      "outputs": [
        {
          "output_type": "stream",
          "name": "stdout",
          "text": [
            "Digite um número: 15\n",
            "O dobro do número digitado é 30\n"
          ]
        }
      ]
    },
    {
      "cell_type": "code",
      "source": [
        "#Escreva um algoritmo para calcular e exibir a média aritmética de 2 notas dadas.\n",
        "\n",
        "nota1 = float(input(\"Digite a primeira nota: \"))\n",
        "nota2 = float(input(\"Digite a segunda nota: \"))\n",
        "media = (nota1 + nota2)/2\n",
        "\n",
        "print(f'Sua média é: {media:.2f}') #2f são dois numeros apos a virgula"
      ],
      "metadata": {
        "colab": {
          "base_uri": "https://localhost:8080/"
        },
        "id": "7Xw-kMTr4SCS",
        "outputId": "ee30fc6d-a101-4257-8edb-9b5f5805b857"
      },
      "execution_count": null,
      "outputs": [
        {
          "output_type": "stream",
          "name": "stdout",
          "text": [
            "Digite a primeira nota: 10\n",
            "Digite a segunda nota: 8\n",
            "Sua média é: 9.00\n"
          ]
        }
      ]
    },
    {
      "cell_type": "code",
      "source": [
        "#Tendo como dados de entrada a altura de uma pessoa, construa um algoritmo que calcule seu peso ideal, usando\n",
        "#a seguinte fórmula: (72.7*altura) - 58\n",
        "\n",
        "altura = float(input(\"Digite a sua altura: \"))\n",
        "peso_ideal = (72.7*altura)-58\n",
        "\n",
        "print(f'Seu peso ideal é: {peso_ideal:.2f}')"
      ],
      "metadata": {
        "colab": {
          "base_uri": "https://localhost:8080/"
        },
        "id": "EoHE1wkSwx9C",
        "outputId": "e2e0ef97-9f1a-4657-fc22-9da8e12ef6a9"
      },
      "execution_count": null,
      "outputs": [
        {
          "output_type": "stream",
          "name": "stdout",
          "text": [
            "Digite a sua altura: 1.85\n",
            "Seu peso ideal é: 76.50\n"
          ]
        }
      ]
    },
    {
      "cell_type": "code",
      "source": [
        "#Faça um Programa que peça dois números e imprima a soma\n",
        "\n",
        "num1 = int(input(\"Digite o primeiro numero: \"))\n",
        "num2 = int(input(\"Digite o segundo numero: \"))\n",
        "media = (num1 + num2)\n",
        "\n",
        "print(f'A soma é: {media}')"
      ],
      "metadata": {
        "colab": {
          "base_uri": "https://localhost:8080/"
        },
        "id": "sOE8iG-Y7F1z",
        "outputId": "aec333d3-1bb6-4fbd-fdba-cb8ceeab3c43"
      },
      "execution_count": null,
      "outputs": [
        {
          "output_type": "stream",
          "name": "stdout",
          "text": [
            "Digite o primeiro numero: 10\n",
            "Digite o segundo numero: 30\n",
            "A soma é: 40\n"
          ]
        }
      ]
    },
    {
      "cell_type": "code",
      "source": [
        "#Faça um Programa que peça as 4 notas bimestrais e mostre a média.\n",
        "\n",
        "nota1 = float(input(\"Digite a sua primeira nota: \"))\n",
        "nota2 = float(input(\"Digite a sua segunda nota: \"))\n",
        "nota3 = float(input(\"Digite a sua terceira nota: \"))\n",
        "nota4 = float(input(\"Digite a sua quarta nota: \"))\n",
        "media = (nota1 + nota2 + nota3 + nota4)/4\n",
        "\n",
        "print(f'A sua média foi: {media:.2f}')"
      ],
      "metadata": {
        "colab": {
          "base_uri": "https://localhost:8080/"
        },
        "id": "-CRW0PVA7sCc",
        "outputId": "7cc2c318-486d-4834-d9c4-c66ecbc6fd9d"
      },
      "execution_count": null,
      "outputs": [
        {
          "output_type": "stream",
          "name": "stdout",
          "text": [
            "Digite a sua primeira nota: 10\n",
            "Digite a sua segunda nota: 8\n",
            "Digite a sua terceira nota: 7\n",
            "Digite a sua quarta nota: 9\n",
            "A sua média foi: 8.50\n"
          ]
        }
      ]
    },
    {
      "cell_type": "code",
      "source": [
        "#Faça um Programa que converta metros para centímetros.\n",
        "\n",
        "metros = float(input(\"Digite o valor em metros: \"))\n",
        "cm = (metros*100)\n",
        "\n",
        "print(f'O valor é: {metros:.2f}m = {cm:.2f}cm')"
      ],
      "metadata": {
        "colab": {
          "base_uri": "https://localhost:8080/"
        },
        "id": "W46BV4Ui9duT",
        "outputId": "9f832652-401f-489c-db70-0e6e9e8c66e3"
      },
      "execution_count": null,
      "outputs": [
        {
          "output_type": "stream",
          "name": "stdout",
          "text": [
            "Digite o valor em metros: 15\n",
            "O valor é: 15.00m = 1500.00cm\n"
          ]
        }
      ]
    },
    {
      "cell_type": "code",
      "source": [
        "# Faça um Programa que peça o raio de um círculo, calcule e mostre sua área. \n",
        "\n",
        "raio = float(input(\"Insira o valor do raio de um círculo: \"))\n",
        "area = (raio ** 2)* 3.1459\n",
        "\n",
        "print(f'A área é: {area:.2f}')"
      ],
      "metadata": {
        "colab": {
          "base_uri": "https://localhost:8080/"
        },
        "id": "5jjm_RpLbIXv",
        "outputId": "24288c4a-fe43-497e-ec13-e3dc31af2a2e"
      },
      "execution_count": null,
      "outputs": [
        {
          "output_type": "stream",
          "name": "stdout",
          "text": [
            "Insira o valor do raio de um círculo: 2\n",
            "A área é: 12.58\n"
          ]
        }
      ]
    },
    {
      "cell_type": "code",
      "source": [
        "# Faça um Programa que calcule a área de um quadrado, em seguida mostre o dobro desta área para o usuário. \n",
        "\n",
        "area = float(input(\"Digite a área do quadrado: \"))\n",
        "dobro = (area * 2)\n",
        "\n",
        "print(f'O dobro da área do quadrado é: {dobro:.2f}')"
      ],
      "metadata": {
        "colab": {
          "base_uri": "https://localhost:8080/"
        },
        "id": "YwDRlJbbcnAJ",
        "outputId": "280d2bad-f7c9-4eb5-85ca-99785333d4b0"
      },
      "execution_count": null,
      "outputs": [
        {
          "output_type": "stream",
          "name": "stdout",
          "text": [
            "Digite a área do quadrado: 8\n",
            "O dobro da área do quadrado é: 16.00\n"
          ]
        }
      ]
    },
    {
      "cell_type": "code",
      "source": [
        "# Faça um Programa que verifique se uma letra digitada é \"F\" ou \"M\". Conforme a letra escrever: \n",
        "#F - Feminino, M - Masculino, Sexo Inválido.\n",
        "\n",
        "sexo = str(input(\"Digite F para feminino ou M para masculino: \"))\n",
        "\n",
        "if sexo == 'F':\n",
        "    print('Sexo feminino')\n",
        "elif sexo == 'M':\n",
        "    print('Sexo masculino')\n",
        "else:\n",
        "    print('Sexo inválido')  "
      ],
      "metadata": {
        "colab": {
          "base_uri": "https://localhost:8080/"
        },
        "id": "TT-P2HiCvz1m",
        "outputId": "764f500a-6ee3-45b7-de6e-78f58f2478b6"
      },
      "execution_count": 5,
      "outputs": [
        {
          "output_type": "stream",
          "name": "stdout",
          "text": [
            "Digite F para feminino ou M para masculino: F\n",
            "Sexo feminino\n"
          ]
        }
      ]
    },
    {
      "cell_type": "code",
      "source": [
        "#Faça um Programa para leitura de três notas parciais de um aluno. O programa deve calcular a\n",
        "#média alcançada por aluno e apresentar:\n",
        "\n",
        "#a mensagem \"Aprovado\", se a média for maior ou igual a 7, com a respectiva média\n",
        "#alcançada;\n",
        "\n",
        "#a mensagem \"Reprovado\", se a média for menor do que 7, com a respectiva média\n",
        "#alcançada;\n",
        "\n",
        "#a mensagem \"Aprovado com Distinção\", se a média for igual a 10.\n",
        "\n",
        "nota1 = float(input(\"Digite a sua primeira nota: \"))\n",
        "nota2 = float(input(\"Digite a sua segunda nota: \"))\n",
        "nota3 = float(input(\"Digite a sua terceira nota: \"))\n",
        "media = (nota1 + nota2 + nota3)/3\n",
        "\n",
        "if media >= 7:\n",
        "    print('Aprovado')\n",
        "elif media == 10:\n",
        "    print('Aprovado com distinção')\n",
        "else:\n",
        "    print('Reprovado')"
      ],
      "metadata": {
        "colab": {
          "base_uri": "https://localhost:8080/"
        },
        "id": "7k8EJij40jPX",
        "outputId": "c01dd6f6-c019-40e8-d624-e6270eb4e2b9"
      },
      "execution_count": 11,
      "outputs": [
        {
          "output_type": "stream",
          "name": "stdout",
          "text": [
            "Digite a sua primeira nota: 10\n",
            "Digite a sua segunda nota: 10\n",
            "Digite a sua terceira nota: 10\n",
            "Aprovado\n"
          ]
        }
      ]
    },
    {
      "cell_type": "code",
      "source": [
        "#Faça um Programa que peça dois números e imprima o maior deles. \n",
        "\n",
        "num1 = int(input(\"Digite o primeiro número: \"))\n",
        "num2 = int(input(\"Digite o segundo número: \"))\n",
        "\n",
        "if num1 > num2:\n",
        "    print(f'O maior número é: {num1} ')\n",
        "elif num1 < num2:\n",
        "    print(f'O menor número é: {num1}')\n",
        "else:\n",
        "    print('Os números são iguais')\n"
      ],
      "metadata": {
        "colab": {
          "base_uri": "https://localhost:8080/"
        },
        "id": "BShF8KwU5QCG",
        "outputId": "c98d1259-97e3-4f19-c2fe-943b2bac002b"
      },
      "execution_count": 15,
      "outputs": [
        {
          "output_type": "stream",
          "name": "stdout",
          "text": [
            "Digite o primeiro número: 10\n",
            "Digite o segundo número: 3\n",
            "O maior número é: 10 \n"
          ]
        }
      ]
    },
    {
      "cell_type": "code",
      "source": [
        "#Faça um Programa que peça um valor e mostre na tela se o valor é positivo ou negativo. \n",
        "\n",
        "valor = int(input(\"Digite um valor: \"))\n",
        "\n",
        "if valor < 0:\n",
        "    print('valor negativo')\n",
        "else:\n",
        "    print('Valor positivo')"
      ],
      "metadata": {
        "colab": {
          "base_uri": "https://localhost:8080/"
        },
        "id": "u-5p_YnS9Ra3",
        "outputId": "f2a2bda0-8d22-460e-80f7-1131059e50ee"
      },
      "execution_count": 17,
      "outputs": [
        {
          "output_type": "stream",
          "name": "stdout",
          "text": [
            "Digite um valor: 20\n",
            "Valor positivo\n"
          ]
        }
      ]
    },
    {
      "cell_type": "code",
      "source": [
        "#Faça um Programa que verifique se uma letra digitada é vogal ou consoante. \n",
        "\n",
        "letra = input(\"Digite uma letra: \")\n",
        "vogal = ('a', 'e', 'i', 'o', 'u')\n",
        "\n",
        "if letra in vogal:\n",
        "    print('Sua letra é vogal')\n",
        "else:\n",
        "    print('Sua letra é consoante')"
      ],
      "metadata": {
        "colab": {
          "base_uri": "https://localhost:8080/"
        },
        "id": "LhLuofGUIWGZ",
        "outputId": "197893b0-6663-401c-e11e-0758c2f4dae3"
      },
      "execution_count": 29,
      "outputs": [
        {
          "output_type": "stream",
          "name": "stdout",
          "text": [
            "Digite uma letra: o\n",
            "Sua letra é vogal\n"
          ]
        }
      ]
    },
    {
      "cell_type": "code",
      "source": [
        "#Faça um programa que pergunte o preço de três produtos e informe qual produto você deve comprar, sabendo que a decisão é sempre pelo mais barato. \n",
        "\n",
        "p1 = float(input(\"Digite o valor do primeiro produto: \"))\n",
        "p2 = float(input(\"Digite o valor do segundo produto: \"))\n",
        "p3 = float(input(\"Digite o valor do terceiro produto: \"))\n",
        "lista = (p1, p2, p3)\n",
        "\n",
        "print(\"O produto que deve ser comprado é o que custa: \", min (lista))  #min é usado para indicar o mínimo entre os valores atribuídos. Ele faz uma cadeia de ifs."
      ],
      "metadata": {
        "colab": {
          "base_uri": "https://localhost:8080/"
        },
        "id": "h3CRPhkLNJZf",
        "outputId": "6dd9f812-47df-48f1-be77-897494898b99"
      },
      "execution_count": 35,
      "outputs": [
        {
          "output_type": "stream",
          "name": "stdout",
          "text": [
            "Digite o valor do primeiro produto: 5.50\n",
            "Digite o valor do segundo produto: 6.90\n",
            "Digite o valor do terceiro produto: 3.30\n",
            "O produto que deve ser comprado é o que custa:  3.3\n"
          ]
        }
      ]
    }
  ]
}