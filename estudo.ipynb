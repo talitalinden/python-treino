{
  "nbformat": 4,
  "nbformat_minor": 0,
  "metadata": {
    "colab": {
      "provenance": [],
      "collapsed_sections": [],
      "authorship_tag": "ABX9TyOQ3RqNY8ayZAjEA5CrzBtd",
      "include_colab_link": true
    },
    "kernelspec": {
      "name": "python3",
      "display_name": "Python 3"
    },
    "language_info": {
      "name": "python"
    }
  },
  "cells": [
    {
      "cell_type": "markdown",
      "metadata": {
        "id": "view-in-github",
        "colab_type": "text"
      },
      "source": [
        "<a href=\"https://colab.research.google.com/github/talitalinden/python-treino/blob/main/estudo.ipynb\" target=\"_parent\"><img src=\"https://colab.research.google.com/assets/colab-badge.svg\" alt=\"Open In Colab\"/></a>"
      ]
    },
    {
      "cell_type": "code",
      "execution_count": null,
      "metadata": {
        "colab": {
          "base_uri": "https://localhost:8080/"
        },
        "id": "9NKgi3aXjm3l",
        "outputId": "8cc6fbce-1914-4cd6-d935-bfe103ff2db6"
      },
      "outputs": [
        {
          "output_type": "stream",
          "name": "stdout",
          "text": [
            "Digite o primeiro número10\n",
            "Digite o segundo número12\n",
            "num1=12, num2=10\n"
          ]
        }
      ],
      "source": [
        "#Escreva um algoritmo que leia duas variáveis inteiras e troque o conteúdo entre elas.\n",
        "\n",
        "num1 = int(input(\"Digite o primeiro número\"))\n",
        "num2 = int(input(\"Digite o segundo número\"))\n",
        "\n",
        "num1, num2 = num2, num1 \n",
        "#em python, a troca de valores não precisa de uma terceira variável temp. A vírgula já funciona na troca.\n",
        "\n",
        "print(f'num1={num1}, num2={num2}')"
      ]
    },
    {
      "cell_type": "code",
      "source": [
        "#Escreva um algoritmo que leia duas variáveis inteiras e troque o conteúdo entre elas.\n",
        "\n",
        "num1 = int(input(\"Digite o primeiro número\"))\n",
        "num2 = int(input(\"Digite o segundo número\"))\n",
        "\n",
        "temp = num1\n",
        "num1 = num2   #nas demais linguagens precisa da terceira variável (temp)\n",
        "num2 = temp\n",
        "\n",
        "print(f'Primeiro numero é {num1}, segundo número {num2}') \n",
        "#a chave indica chamar a variável"
      ],
      "metadata": {
        "colab": {
          "base_uri": "https://localhost:8080/"
        },
        "id": "IVomhSTvrgTn",
        "outputId": "b5917be1-18fd-48f6-fb21-8fddac101e59"
      },
      "execution_count": null,
      "outputs": [
        {
          "output_type": "stream",
          "name": "stdout",
          "text": [
            "Digite o primeiro número10\n",
            "Digite o segundo número12\n",
            "Primeiro numero é 12, segundo número 10\n"
          ]
        }
      ]
    },
    {
      "cell_type": "code",
      "source": [
        "#Escreva um algoritmo que leia um número inteiro e exiba o dobro do mesmo.\n",
        "\n",
        "num = int(input(\"Digite um número: \"))\n",
        "\n",
        "print(f'O dobro do número digitado é {num*2}')"
      ],
      "metadata": {
        "id": "kFfu87LmuNCm",
        "colab": {
          "base_uri": "https://localhost:8080/"
        },
        "outputId": "c55e7a86-3f69-46dd-c839-8580f6f0bdc9"
      },
      "execution_count": 11,
      "outputs": [
        {
          "output_type": "stream",
          "name": "stdout",
          "text": [
            "Digite um número: 15\n",
            "O dobro do número digitado é 30\n"
          ]
        }
      ]
    },
    {
      "cell_type": "code",
      "source": [
        "#Escreva um algoritmo para calcular e exibir a média aritmética de 2 notas dadas.\n",
        "\n",
        "nota1 = float(input(\"Digite a primeira nota: \"))\n",
        "nota2 = float(input(\"Digite a segunda nota: \"))\n",
        "media = (nota1 + nota2)/2\n",
        "\n",
        "print(f'Sua média é: {media:.2f}') #2f são dois numeros apos a virgula"
      ],
      "metadata": {
        "colab": {
          "base_uri": "https://localhost:8080/"
        },
        "id": "7Xw-kMTr4SCS",
        "outputId": "ee30fc6d-a101-4257-8edb-9b5f5805b857"
      },
      "execution_count": 20,
      "outputs": [
        {
          "output_type": "stream",
          "name": "stdout",
          "text": [
            "Digite a primeira nota: 10\n",
            "Digite a segunda nota: 8\n",
            "Sua média é: 9.00\n"
          ]
        }
      ]
    },
    {
      "cell_type": "code",
      "source": [
        "#Tendo como dados de entrada a altura de uma pessoa, construa um algoritmo que calcule seu peso ideal, usando\n",
        "#a seguinte fórmula: (72.7*altura) - 58\n",
        "\n",
        "altura = float(input(\"Digite a sua altura: \"))\n",
        "peso_ideal = (72.7*altura)-58\n",
        "\n",
        "print(f'Seu peso ideal é: {peso_ideal:.2f}')"
      ],
      "metadata": {
        "colab": {
          "base_uri": "https://localhost:8080/"
        },
        "id": "EoHE1wkSwx9C",
        "outputId": "e2e0ef97-9f1a-4657-fc22-9da8e12ef6a9"
      },
      "execution_count": 2,
      "outputs": [
        {
          "output_type": "stream",
          "name": "stdout",
          "text": [
            "Digite a sua altura: 1.85\n",
            "Seu peso ideal é: 76.50\n"
          ]
        }
      ]
    },
    {
      "cell_type": "code",
      "source": [
        "#Faça um Programa que peça dois números e imprima a soma\n",
        "\n",
        "num1 = int(input(\"Digite o primeiro numero: \"))\n",
        "num2 = int(input(\"Digite o segundo numero: \"))\n",
        "media = (num1 + num2)\n",
        "\n",
        "print(f'A soma é: {media}')"
      ],
      "metadata": {
        "colab": {
          "base_uri": "https://localhost:8080/"
        },
        "id": "sOE8iG-Y7F1z",
        "outputId": "aec333d3-1bb6-4fbd-fdba-cb8ceeab3c43"
      },
      "execution_count": 4,
      "outputs": [
        {
          "output_type": "stream",
          "name": "stdout",
          "text": [
            "Digite o primeiro numero: 10\n",
            "Digite o segundo numero: 30\n",
            "A soma é: 40\n"
          ]
        }
      ]
    },
    {
      "cell_type": "code",
      "source": [
        "#Faça um Programa que peça as 4 notas bimestrais e mostre a média.\n",
        "\n",
        "nota1 = float(input(\"Digite a sua primeira nota: \"))\n",
        "nota2 = float(input(\"Digite a sua segunda nota: \"))\n",
        "nota3 = float(input(\"Digite a sua terceira nota: \"))\n",
        "nota4 = float(input(\"Digite a sua quarta nota: \"))\n",
        "media = (nota1 + nota2 + nota3 + nota4)/4\n",
        "\n",
        "print(f'A sua média foi: {media:.2f}')"
      ],
      "metadata": {
        "colab": {
          "base_uri": "https://localhost:8080/"
        },
        "id": "-CRW0PVA7sCc",
        "outputId": "7cc2c318-486d-4834-d9c4-c66ecbc6fd9d"
      },
      "execution_count": 5,
      "outputs": [
        {
          "output_type": "stream",
          "name": "stdout",
          "text": [
            "Digite a sua primeira nota: 10\n",
            "Digite a sua segunda nota: 8\n",
            "Digite a sua terceira nota: 7\n",
            "Digite a sua quarta nota: 9\n",
            "A sua média foi: 8.50\n"
          ]
        }
      ]
    },
    {
      "cell_type": "code",
      "source": [
        "#Faça um Programa que converta metros para centímetros.\n",
        "\n",
        "metros = float(input(\"Digite o valor em metros: \"))\n",
        "cm = (metros*100)\n",
        "\n",
        "print(f'O valor é: {metros:.2f}m = {cm:.2f}cm')"
      ],
      "metadata": {
        "colab": {
          "base_uri": "https://localhost:8080/"
        },
        "id": "W46BV4Ui9duT",
        "outputId": "9f832652-401f-489c-db70-0e6e9e8c66e3"
      },
      "execution_count": 9,
      "outputs": [
        {
          "output_type": "stream",
          "name": "stdout",
          "text": [
            "Digite o valor em metros: 15\n",
            "O valor é: 15.00m = 1500.00cm\n"
          ]
        }
      ]
    }
  ]
}