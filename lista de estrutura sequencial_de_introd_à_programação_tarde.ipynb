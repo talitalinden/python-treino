{
  "nbformat": 4,
  "nbformat_minor": 0,
  "metadata": {
    "colab": {
      "provenance": [],
      "collapsed_sections": [],
      "authorship_tag": "ABX9TyPO62iDwqY36czlQWWhVqMo",
      "include_colab_link": true
    },
    "kernelspec": {
      "name": "python3",
      "display_name": "Python 3"
    },
    "language_info": {
      "name": "python"
    }
  },
  "cells": [
    {
      "cell_type": "markdown",
      "metadata": {
        "id": "view-in-github",
        "colab_type": "text"
      },
      "source": [
        "<a href=\"https://colab.research.google.com/github/talitalinden/python-treino/blob/main/lista%20de%20estrutura%20sequencial_de_introd_%C3%A0_programa%C3%A7%C3%A3o_tarde.ipynb\" target=\"_parent\"><img src=\"https://colab.research.google.com/assets/colab-badge.svg\" alt=\"Open In Colab\"/></a>"
      ]
    },
    {
      "cell_type": "code",
      "execution_count": null,
      "metadata": {
        "id": "QvSKVGBKJedr"
      },
      "outputs": [],
      "source": [
        "# comentario para o codigo\n",
        "# bool significa booleano - true or false\n",
        "# int significa inteiro\n",
        "# float significa ponto flutuante - usado para valores quebrados\n",
        "# range para sequencia de numeros\n",
        "# str, unicode - cadeia de caracteres imutavel\n",
        "# bytes - sequencia binaria\n",
        "# dict - dicionario\n",
        "\n",
        "# == igual a \n",
        "# != diferente de\n",
        "# >= maior igual\n",
        "# <= menor igual\n",
        "# input significa leia\n",
        "# f significa formatar"
      ]
    },
    {
      "cell_type": "code",
      "source": [
        "#Faça um Programa que mostre a mensagem \"Alo mundo\" na tela.\n",
        "print (\"Alô mundo!\")"
      ],
      "metadata": {
        "id": "IbZPA0eyM86X",
        "colab": {
          "base_uri": "https://localhost:8080/"
        },
        "outputId": "ffacf7b0-1418-46a0-a4ef-e894588b3d9d"
      },
      "execution_count": 3,
      "outputs": [
        {
          "output_type": "stream",
          "name": "stdout",
          "text": [
            "Alô mundo!\n"
          ]
        }
      ]
    },
    {
      "cell_type": "code",
      "source": [
        "#Faça um Programa que peça um número e então mostre a mensagem O número informado foi [número]. \n",
        "\n",
        "numero = int(input('insira um numero: '))\n",
        "print(f'O número informado foi: {numero}')"
      ],
      "metadata": {
        "colab": {
          "base_uri": "https://localhost:8080/"
        },
        "id": "oLQzo_YRPNLo",
        "outputId": "c000e3c4-c5b5-4c1a-ed52-595c3c14753a"
      },
      "execution_count": 2,
      "outputs": [
        {
          "output_type": "stream",
          "name": "stdout",
          "text": [
            "insira um numero: 10\n",
            "O número informado foi: 10\n"
          ]
        }
      ]
    },
    {
      "cell_type": "code",
      "source": [
        "#Faça um Programa que peça dois números e imprima a soma.\n",
        "num1 = int(input('Insira o primeiro numero: '))\n",
        "num2 = int(input('Insira o segundo numero: '))\n",
        "soma = num1 + num2\n",
        "print (f'{num1} + {num2} = {soma}')"
      ],
      "metadata": {
        "colab": {
          "base_uri": "https://localhost:8080/"
        },
        "id": "5XUBAMp9PmUg",
        "outputId": "f8f0115d-5a6f-4c0d-d91b-aa9bf8b6ca93"
      },
      "execution_count": 6,
      "outputs": [
        {
          "output_type": "stream",
          "name": "stdout",
          "text": [
            "Insira o primeiro numero: 8\n",
            "Insira o segundo numero: 12\n",
            "8 + 12 = 20\n"
          ]
        }
      ]
    },
    {
      "cell_type": "code",
      "source": [
        "#Faça um Programa que peça as 4 notas bimestrais e mostre a média.\n",
        "nota1 = float(input(\"Digite a 1º nota: \"))\n",
        "nota2 = float(input(\"Digite a 2º nota: \"))\n",
        "nota3 = float(input(\"Digite a terceira nota: \"))\n",
        "nota4 = float(input(\"Digite a quarta nota: \"))\n",
        "media = (nota1 + nota2 + nota3 + nota4)/4\n",
        "\n",
        "print(f'A média é: {media:.2f}')\n",
        "# para números quebrados, 2f significa que quer que exiba 2 numeros apos a virgula."
      ],
      "metadata": {
        "id": "FX9C_dQ3QLu6",
        "cellView": "code"
      },
      "execution_count": null,
      "outputs": []
    },
    {
      "cell_type": "code",
      "source": [
        "#Faça um Programa que converta metros para centímetros.\n",
        "metros = float(input('Insira a metragem: '))\n",
        "centimetros = metros / 0.010000  # outra forma: metros * 100\n",
        "print(f'{metros:.2f}m = {centimetros:.2f}cm')"
      ],
      "metadata": {
        "colab": {
          "base_uri": "https://localhost:8080/"
        },
        "id": "yA7suf6TBVJJ",
        "outputId": "8068c2da-37aa-42d6-bde7-fffd8df5e7f0"
      },
      "execution_count": 14,
      "outputs": [
        {
          "output_type": "stream",
          "name": "stdout",
          "text": [
            "Insira a metragem: 5\n",
            "5.00m = 500.00cm\n"
          ]
        }
      ]
    },
    {
      "cell_type": "code",
      "source": [
        "#Faça um Programa que peça o raio de um círculo, calcule e mostre sua área.\n",
        "raio = float(input('Insira o valor do raio de um círculo: '))\n",
        "area = (raio ** 2) * 3.14159\n",
        "print(f'A área do círculo é: {area:.2f}')\n",
        "# r**2 * pi (pi = 3.141592653589793)"
      ],
      "metadata": {
        "colab": {
          "base_uri": "https://localhost:8080/"
        },
        "id": "Hgc9jkqddbWl",
        "outputId": "102bb9c6-4478-4ede-c09b-9cd9d951f892"
      },
      "execution_count": 16,
      "outputs": [
        {
          "output_type": "stream",
          "name": "stdout",
          "text": [
            "Insira o valor do raio de um círculo: 15\n",
            "A área do círculo é: 706.86\n"
          ]
        }
      ]
    },
    {
      "cell_type": "code",
      "source": [
        "#Faça um Programa que calcule a área de um quadrado, em seguida mostre o \n",
        "#dobro desta área para o usuário.\n",
        "\n",
        "lado = float(input('Insira o valor do lado do quadrado: '))\n",
        "dobro = (lado ** 2) * 2\n",
        "print(f'O dobro da area do quadrado é: {dobro:.2f}')"
      ],
      "metadata": {
        "colab": {
          "base_uri": "https://localhost:8080/"
        },
        "id": "vuX1FRN_eg92",
        "outputId": "144c71a6-d56c-4589-b2cb-d5ab80dd73b8"
      },
      "execution_count": 29,
      "outputs": [
        {
          "output_type": "stream",
          "name": "stdout",
          "text": [
            "Insira o valor do lado do quadrado: 2\n",
            "O dobro da area do quadrado é: 8.00\n"
          ]
        }
      ]
    },
    {
      "cell_type": "code",
      "source": [
        "#Faça um Programa que pergunte quanto você ganha por hora e o número de horas \n",
        "#trabalhadas no mês. Calcule e mostre o total do seu salário no referido mês.\n",
        "valor = float(input('Insira o valor por hora trabalhada: '))\n",
        "horas = float(input('Insira o número de horas trabalhadas no mês: '))\n",
        "salario = valor * horas\n",
        "print(f'O valor total do seu salário é: $ {salario:.2f}')"
      ],
      "metadata": {
        "colab": {
          "base_uri": "https://localhost:8080/"
        },
        "id": "FLno6hshihHZ",
        "outputId": "d076ce8d-bbfe-4c91-e26f-fe4609753259"
      },
      "execution_count": 34,
      "outputs": [
        {
          "output_type": "stream",
          "name": "stdout",
          "text": [
            "Insira o valor por hora trabalhada: 20\n",
            "Insira o número de horas trabalhadas no mês: 40\n",
            "O valor total do seu salário é: $ 800.00\n"
          ]
        }
      ]
    },
    {
      "cell_type": "code",
      "source": [
        "#Faça um Programa que peça a temperatura em graus Fahrenheit, transforme e \n",
        "#mostre a temperatura em graus Celsius.\n",
        "#C = 5 * ((F-32) / 9). \n",
        "f = float(input('A temperatura em Fahrenheit é: '))\n",
        "c = 5 * ((f-32) / 9)\n",
        "print(f'A temperatura em graus Celsius é: {c:.2f}')"
      ],
      "metadata": {
        "colab": {
          "base_uri": "https://localhost:8080/"
        },
        "id": "GG0cYE_pkxY7",
        "outputId": "58400ee1-3b4a-4931-aa24-9ca8cfb574c2"
      },
      "execution_count": 39,
      "outputs": [
        {
          "output_type": "stream",
          "name": "stdout",
          "text": [
            "A temperatura em Fahrenheit é: 83\n",
            "A temperatura em graus Celsius é: 28.33\n"
          ]
        }
      ]
    },
    {
      "cell_type": "code",
      "source": [
        "#Faça um Programa que peça a temperatura em graus Celsius, transforme e \n",
        "#mostre em graus Fahrenheit. \n",
        "c = float(input('A temperatura em graus Celsius é: '))\n",
        "f = ((c*9) / 5) + 32\n",
        "print(f'A temperatura em graus Fahrenheit é: {f:.2f}')"
      ],
      "metadata": {
        "colab": {
          "base_uri": "https://localhost:8080/"
        },
        "id": "qtFT_2CKnMnn",
        "outputId": "69d7faea-891a-4c13-8d72-babbe6748d76"
      },
      "execution_count": 40,
      "outputs": [
        {
          "output_type": "stream",
          "name": "stdout",
          "text": [
            "A temperatura em graus Celsius é: 25\n",
            "A temperatura em graus Fahrenheit é: 77.00\n"
          ]
        }
      ]
    },
    {
      "cell_type": "code",
      "source": [
        "#Faça um Programa que peça 2 números inteiros e um número real. Calcule e mostre:\n",
        "    #o produto do dobro do primeiro com metade do segundo .\n",
        "    #a soma do triplo do primeiro com o terceiro.\n",
        "    #o terceiro elevado ao cubo.\n",
        "num1 = int(input('Insira o primeiro numero inteiro: '))\n",
        "num2 = int(input('Insira o segundo numero inteiro: ')) \n",
        "num3 = float(input('Insira um numero real: '))\n",
        "somaA = (num1 * 2) + (num2 / 2)\n",
        "somaB = (num1 * 3) + num3\n",
        "somaC = num3**3\n",
        "\n",
        "print(f'O produto do dobro do primeiro com metade do segundo é: {somaA:.0f}')\n",
        "print(f'A soma do triplo do primeiro com o terceiro é: {somaB:.0f}')\n",
        "print(f'O terceiro elevado ao cubo é: {somaC:.0f}')"
      ],
      "metadata": {
        "colab": {
          "base_uri": "https://localhost:8080/"
        },
        "id": "Wg_ynDDysbkr",
        "outputId": "3415d8a7-9e06-4514-e9de-1816607af081"
      },
      "execution_count": 43,
      "outputs": [
        {
          "output_type": "stream",
          "name": "stdout",
          "text": [
            "Insira o primeiro numero inteiro: 10\n",
            "Insira o segundo numero inteiro: 5\n",
            "Insira um numero real: 5.6\n",
            "O produto do dobro do primeiro com metade do segundo é: 22\n",
            "A soma do triplo do primeiro com o terceiro é: 36\n",
            "O terceiro elevado ao cubo é: 176\n"
          ]
        }
      ]
    },
    {
      "cell_type": "code",
      "source": [
        "#Tendo como dados de entrada a altura de uma pessoa, construa um algoritmo que \n",
        "#calcule seu peso ideal, usando a seguinte fórmula: (72.7*altura) - 58\n",
        "altura = float(input('Insira a sua altura: '))\n",
        "peso_ideal = (72.7*altura) - 58\n",
        "print(f'O peso ideal para a sua altura é: {peso_ideal}kg')"
      ],
      "metadata": {
        "colab": {
          "base_uri": "https://localhost:8080/"
        },
        "id": "KcE4xS-Su6g8",
        "outputId": "593a2e3c-95c7-46f9-c302-23e955fe6fef"
      },
      "execution_count": 45,
      "outputs": [
        {
          "output_type": "stream",
          "name": "stdout",
          "text": [
            "Insira a sua altura: 1.58\n",
            "O peso ideal para a sua altura é: 56.866000000000014kg\n"
          ]
        }
      ]
    },
    {
      "cell_type": "code",
      "source": [
        "#Tendo como dado de entrada a altura (h) de uma pessoa, construa um algoritmo \n",
        "#que calcule seu peso ideal, utilizando as seguintes fórmulas:\n",
        "    #Para homens: (72.7*h) - 58\n",
        "    #Para mulheres: (62.1*h) - 44.7\n",
        "sexo = str(input('Insira o seu sexo (M/F): '))\n",
        "h = float(input('Insira a sua altura: '))\n",
        "\n",
        "if sexo == 'M':\n",
        "  peso = (72.7 * h) -58\n",
        "else:\n",
        "  peso = (62.1 * h) - 44.7\n",
        "\n",
        "print(f'Seu peso ideal é: {peso:.3f}kg')"
      ],
      "metadata": {
        "colab": {
          "base_uri": "https://localhost:8080/"
        },
        "id": "wK5rii_nwFEc",
        "outputId": "46868fa0-8b85-424c-b5c8-db9f2fbbe5cc"
      },
      "execution_count": 46,
      "outputs": [
        {
          "output_type": "stream",
          "name": "stdout",
          "text": [
            "Insira o seu sexo (M/F): F\n",
            "Insira a sua altura: 1.58\n",
            "Seu peso ideal é: 53.418kg\n"
          ]
        }
      ]
    },
    {
      "cell_type": "code",
      "source": [
        "#João Papo-de-Pescador comprou um microcomputador para controlar o rendimento \n",
        "#diário de seu trabalho. Toda vez que ele traz um peso de peixes maior que o \n",
        "#estabelecido pelo regulamento de pesca do estado de São Paulo (50 quilos) deve \n",
        "#pagar uma multa de R$ 4,00 por quilo excedente. João precisa que você faça um \n",
        "#programa que leia a variável peso (peso de peixes) e calcule o excesso. \n",
        "#Gravar na variável excesso a quantidade de quilos além do limite e na variável \n",
        "#multa o valor da multa que João deverá pagar. Imprima os dados do programa com \n",
        "#as mensagens adequadas.\n",
        "peso = float(input('Insira o peso: '))\n",
        "excesso = 0\n",
        "multa = 0\n",
        "\n",
        "if peso > 50:\n",
        "  excesso = peso - 50\n",
        "  multa = excesso * 4\n",
        "\n",
        "print(f'Peso excedido: {excesso:.3f}kg')\n",
        "print(f'Multa a pagar: {multa:.2f}')\n"
      ],
      "metadata": {
        "colab": {
          "base_uri": "https://localhost:8080/"
        },
        "id": "jxWLOIpwy0-D",
        "outputId": "86664f59-abf3-4cf6-f9c1-54c4ad4554f2"
      },
      "execution_count": 47,
      "outputs": [
        {
          "output_type": "stream",
          "name": "stdout",
          "text": [
            "Insira o peso: 65\n",
            "Peso excedido: 15.000kg\n",
            "Multa a pagar: 60.00\n"
          ]
        }
      ]
    },
    {
      "cell_type": "code",
      "source": [
        "#Faça um Programa que pergunte quanto você ganha por hora e o número de \n",
        "#horas trabalhadas no mês.\n",
        "#Calcule e mostre o total do seu salário no referido mês,\n",
        "#sabendo-se que são descontados 11% para o Imposto de Renda,\n",
        "#8% para o INSS e 5% para o sindicato, faça um programa que nos dê:\n",
        "#a. salário bruto.\n",
        "#b. quanto pagou ao INSS.\n",
        "#c. quanto pagou ao sindicato.\n",
        "#d. o salário líquido.\n",
        "#e. calcule os descontos e o salário líquido, conforme a tabela abaixo:\n",
        "    #+ Salário Bruto : R$\n",
        "    #- IR (11%) : R$\n",
        "    #- INSS (8%) : R$\n",
        "    #- Sindicato ( 5%) : R$\n",
        "    #= Salário Liquido : R$\n",
        "#Obs.: Salário Bruto - Descontos = Salário Líquido.\n",
        "\n",
        "valor = float(input('Insira o valor por hora trabalhada: '))\n",
        "horas = float(input('Insira o número de horas trabalhadas no mês: '))\n",
        "salario_bruto = valor * horas\n",
        "ir = salario_bruto * 0.11\n",
        "inss = salario_bruto * 0.08\n",
        "sind = salario_bruto * 0.05\n",
        "salario_liquido = salario_bruto - (ir + inss + sind)\n",
        "\n",
        "print(f'Salário bruto: R$ {salario_bruto:.2f}')\n",
        "print(f'IR (11%): R$ {ir:.2f}')\n",
        "print(f'INSS (8%): R$ {inss:.2f}')\n",
        "print(f'sind (5%): R$ {sind:.2f}')\n",
        "print(f'Salário líquido: R$ {salario_liquido:.2f}')"
      ],
      "metadata": {
        "colab": {
          "base_uri": "https://localhost:8080/"
        },
        "id": "9k3jcZFd0uXH",
        "outputId": "263de3b8-16db-45b0-f655-e5a68681fcea"
      },
      "execution_count": 50,
      "outputs": [
        {
          "output_type": "stream",
          "name": "stdout",
          "text": [
            "Insira o valor por hora trabalhada: 20\n",
            "Insira o número de horas trabalhadas no mês: 40\n",
            "Salário bruto: R$ 800.00\n",
            "IR (11%): R$ 88.00\n",
            "INSS (8%): R$ 64.00\n",
            "sind (5%): R$ 40.00\n",
            "Salário líquido: R$ 608.00\n"
          ]
        }
      ]
    },
    {
      "cell_type": "code",
      "source": [
        "#Faça um programa para uma loja de tintas. O programa deverá pedir o tamanho em \n",
        "#metros quadrados da área a ser pintada. \n",
        "#Considere que a cobertura da tinta é de 1 litro para cada 3 metros quadrados \n",
        "#e que a tinta é vendida em latas de 18 litros, \n",
        "#que custam R$ 80,00. Informe ao usuário a quantidades de latas de tinta a serem\n",
        "#compradas e o preço total. \n",
        "\n",
        "tamanho = float(input('Insira o tamanho da área: '))\n",
        "litros = tamanho / 3\n",
        "latas = int(litros / 18)\n",
        "if litros % 18 !=0:\n",
        "  latas += 1\n",
        "preço = latas * 80\n",
        "\n",
        "print(f'Quantidade de latas: {latas}')\n",
        "print(f'Preço total: R$ {preço:.2f}')"
      ],
      "metadata": {
        "colab": {
          "base_uri": "https://localhost:8080/"
        },
        "id": "2Jknha9e5WaA",
        "outputId": "04af7b66-ec09-43e7-b09f-945e87b34890"
      },
      "execution_count": 53,
      "outputs": [
        {
          "output_type": "stream",
          "name": "stdout",
          "text": [
            "Insira o tamanho da área: 60\n",
            "Quantidade de latas: 2\n",
            "Preço total: R$ 160.00\n"
          ]
        }
      ]
    },
    {
      "cell_type": "code",
      "source": [
        "#Faça um Programa para uma loja de tintas.\n",
        "#O programa deverá pedir o tamanho em metros quadrados da área a ser pintada.\n",
        "#Considere que a cobertura da tinta é de 1 litro para cada 6 metros quadrados\n",
        "#e que a tinta é vendida em latas de 18 litros, que custam R$ 80,00\n",
        "#ou em galões de 3,6 litros, que custam R$ 25,00.\n",
        "#Informe ao usuário as quantidades de tinta a serem compradas\n",
        "#e os respectivos preços em 3 situações:\n",
        " #- comprar apenas latas de 18 litros;\n",
        " #- comprar apenas galões de 3,6 litros;\n",
        " #- misturar latas e galões, de forma que o desperdício de tinta seja menor.\n",
        "#Acrescente 10% de folga e sempre arredonde os valores para cima,\n",
        "#isto é, considere latas cheias.\n",
        "\n",
        "M2_POR_LITRO = 6\n",
        "LITRO_LATA = 18\n",
        "VALOR_LATA = 80\n",
        "LITRO_GALAO = 3.6\n",
        "VALOR_GALAO = 25\n",
        "MARGEM_FOLGA = 1.1\n",
        "\n",
        "m2 = float(input(f'Insira o tamanho da área: '))\n",
        "consumo_litro = m2 / M2_POR_LITRO * MARGEM_FOLGA\n",
        "\n",
        "qtd_lata = int(consumo_litro / LITRO_LATA)  \n",
        "if consumo_litro % LITRO_LATA != 0:\n",
        "    qtd_lata += 1\n",
        "valor_lata = qtd_lata * VALOR_LATA\n",
        "\n",
        "qtd_galao = int(consumo_litro / LITRO_GALAO)\n",
        "if consumo_litro % LITRO_GALAO != 0:\n",
        "    qtd_galao += 1\n",
        "valor_galao = qtd_galao * VALOR_GALAO\n",
        "\n",
        "qtd_lata_misto = int(consumo_litro / LITRO_LATA)\n",
        "qtd_galao_misto = int((consumo_litro - qtd_lata_misto * LITRO_LATA) / LITRO_GALAO)\n",
        "if consumo_litro % LITRO_GALAO != 0:\n",
        "    qtd_galao_misto += 1\n",
        "valor_galao_misto = qtd_galao_misto * VALOR_GALAO\n",
        "valor_lata_misto = qtd_lata_misto * VALOR_LATA\n",
        "\n",
        "print()\n",
        "print(f'Apenas latas:')\n",
        "print()\n",
        "print(f'Quantidade de latas: {qtd_lata}')\n",
        "print(f'Valor a pagar: R$ {valor_lata}')\n",
        "print()\n",
        "print(f'Apenas galões:')\n",
        "print()\n",
        "print(f'Quantidade de galões: {qtd_galao}')\n",
        "print(f'Valor a pagar: R$ {valor_galao}')\n",
        "print()\n",
        "print(f'Compra mista:')\n",
        "print()\n",
        "print(f'Latas: {qtd_lata_misto}')\n",
        "print(f'Galões: {qtd_galao_misto}')\n",
        "print(f'Valor a pagar: R$ {valor_lata_misto + valor_galao_misto}')"
      ],
      "metadata": {
        "colab": {
          "base_uri": "https://localhost:8080/"
        },
        "id": "L2Rnk2eB7E_b",
        "outputId": "87acf41f-496b-49c9-ffc9-404069812861"
      },
      "execution_count": 54,
      "outputs": [
        {
          "output_type": "stream",
          "name": "stdout",
          "text": [
            "Insira o tamanho da área: 60\n",
            "\n",
            "Apenas latas:\n",
            "\n",
            "Quantidade de latas: 1\n",
            "Valor a pagar: R$ 80\n",
            "\n",
            "Apenas galões:\n",
            "\n",
            "Quantidade de galões: 4\n",
            "Valor a pagar: R$ 100\n",
            "\n",
            "Compra mista:\n",
            "\n",
            "Latas: 0\n",
            "Galões: 4\n",
            "Valor a pagar: R$ 100\n"
          ]
        }
      ]
    },
    {
      "cell_type": "code",
      "source": [
        "#Faça um programa que peça o tamanho de um arquivo para download (em MB) e a \n",
        "#velocidade de um link de Internet (em Mbps), calcule e informe o tempo \n",
        "#aproximado de download do arquivo usando este link (em minutos). \n",
        "tamanho = float(input('Informe o tamanho do arquivo para download (em MB): '))\n",
        "velocidade = float(input('Informe a velocidade do link (em Mbps): '))\n",
        "\n",
        "segundos = tamanho / (velocidade / 8) #porque 1 byte equivale a 8 bits\n",
        "minutos = int(segundos / 60) #tempo em minutos\n",
        "\n",
        "print(f'O tempo aproximado de download é: {minutos} minutos')\n"
      ],
      "metadata": {
        "colab": {
          "base_uri": "https://localhost:8080/"
        },
        "id": "Is66CxO7_Y9K",
        "outputId": "221abc7a-8872-46a4-97a7-782c8629d16a"
      },
      "execution_count": 55,
      "outputs": [
        {
          "output_type": "stream",
          "name": "stdout",
          "text": [
            "Informe o tamanho do arquivo para download (em MB): 100\n",
            "Informe a velocidade do link (em Mbps): 10\n",
            "O tempo aproximado de download é: 1 minutos\n"
          ]
        }
      ]
    }
  ]
}