{
  "nbformat": 4,
  "nbformat_minor": 0,
  "metadata": {
    "colab": {
      "provenance": [],
      "collapsed_sections": [],
      "authorship_tag": "ABX9TyPTEDHUQJjYTZJf7L9dPHP6",
      "include_colab_link": true
    },
    "kernelspec": {
      "name": "python3",
      "display_name": "Python 3"
    },
    "language_info": {
      "name": "python"
    }
  },
  "cells": [
    {
      "cell_type": "markdown",
      "metadata": {
        "id": "view-in-github",
        "colab_type": "text"
      },
      "source": [
        "<a href=\"https://colab.research.google.com/github/talitalinden/python-treino/blob/main/exerc%C3%ADcios_com_string.ipynb\" target=\"_parent\"><img src=\"https://colab.research.google.com/assets/colab-badge.svg\" alt=\"Open In Colab\"/></a>"
      ]
    },
    {
      "cell_type": "code",
      "execution_count": 6,
      "metadata": {
        "colab": {
          "base_uri": "https://localhost:8080/"
        },
        "id": "FTCWPgOJTpgh",
        "outputId": "d53fbc37-29e9-4c18-99b2-78648fe72216"
      },
      "outputs": [
        {
          "output_type": "stream",
          "name": "stdout",
          "text": [
            "Digite a primeira frase: Domindo a tarde\n",
            "Digite a segunda frase: Domindo a tarde\n",
            "Tamanho de Domindo a tarde :  15 caracteres\n",
            "O tamanho de Domindo a tarde : 15 caracteres\n",
            "As duas frases são de tamanhos iguais.\n"
          ]
        }
      ],
      "source": [
        "#Faça um programa que leia 2 strings e informe o conteúdo delas seguido do seu comprimento. \n",
        "#Informe também se as duas strings possuem o mesmo comprimento e são iguais ou diferentes no conteúdo.\n",
        "\n",
        "    #Compara duas strings\n",
        "    #String 1: Brasil Hexa 2006\n",
        "    #String 2: Brasil! Hexa 2006!\n",
        "    #Tamanho de \"Brasil Hexa 2006\": 16 caracteres\n",
        "    #Tamanho de \"Brasil! Hexa 2006!\": 18 caracteres\n",
        "    #As duas strings são de tamanhos diferentes.\n",
        "    #As duas strings possuem conteúdo diferente.\n",
        "\n",
        "string1 = str(input(\"Digite a primeira frase: \"))\n",
        "string2 = str(input(\"Digite a segunda frase: \"))\n",
        "\n",
        "print(\"Tamanho de\", string1, \": \", len(string1), \"caracteres\")\n",
        "print(\"O tamanho de\", string2, \":\", len(string2), \"caracteres\")\n",
        "\n",
        "if len(string1) == len(string2): #len calcula o comprimento\n",
        "    print(\"As duas frases são de tamanhos iguais.\")\n",
        "else:\n",
        "    print(\"As duas frases tem tamanhos diferentes.\")"
      ]
    },
    {
      "cell_type": "code",
      "source": [
        "#Faça um programa que permita ao usuário digitar o seu nome e em seguida mostre o nome do usuário de trás para frente utilizando \n",
        "#somente letras maiúsculas. Dica: lembre−se que ao informar o nome o usuário pode digitar letras maiúsculas ou minúsculas. "
      ],
      "metadata": {
        "id": "_c_3gLHdTzjd"
      },
      "execution_count": null,
      "outputs": []
    }
  ]
}